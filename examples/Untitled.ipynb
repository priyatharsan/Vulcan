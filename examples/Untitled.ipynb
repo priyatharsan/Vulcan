{
 "cells": [
  {
   "cell_type": "code",
   "execution_count": 1,
   "metadata": {},
   "outputs": [
    {
     "ename": "RuntimeError",
     "evalue": "module compiled against API version 0xc but this version of numpy is 0xb",
     "output_type": "error",
     "traceback": [
      "\u001b[1;31m---------------------------------------------------------------------------\u001b[0m",
      "\u001b[1;31mRuntimeError\u001b[0m                              Traceback (most recent call last)",
      "\u001b[1;31mRuntimeError\u001b[0m: module compiled against API version 0xc but this version of numpy is 0xb"
     ]
    },
    {
     "ename": "RuntimeError",
     "evalue": "module compiled against API version 0xc but this version of numpy is 0xb",
     "output_type": "error",
     "traceback": [
      "\u001b[1;31m---------------------------------------------------------------------------\u001b[0m",
      "\u001b[1;31mRuntimeError\u001b[0m                              Traceback (most recent call last)",
      "\u001b[1;31mRuntimeError\u001b[0m: module compiled against API version 0xc but this version of numpy is 0xb"
     ]
    }
   ],
   "source": [
    "%matplotlib inline\n",
    "import matplotlib.pyplot as plt\n",
    "import tensorflow as tf\n",
    "import numpy as np"
   ]
  },
  {
   "cell_type": "code",
   "execution_count": 2,
   "metadata": {},
   "outputs": [
    {
     "name": "stderr",
     "output_type": "stream",
     "text": [
      "Using cuDNN version 7103 on context None\n",
      "Mapped name None to device cuda: GeForce GTX 960M (0000:01:00.0)\n",
      "C:\\Anaconda\\Anaconda2\\lib\\site-packages\\matplotlib\\__init__.py:1357: UserWarning:  This call to matplotlib.use() has no effect\n",
      "because the backend has already been chosen;\n",
      "matplotlib.use() must be called *before* pylab, matplotlib.pyplot,\n",
      "or matplotlib.backends is imported for the first time.\n",
      "\n",
      "  warnings.warn(_use_error_msg)\n"
     ]
    }
   ],
   "source": [
    "from vulcanai.utils import get_one_hot\n",
    "\n",
    "from vulcanai import mnist_loader"
   ]
  },
  {
   "cell_type": "code",
   "execution_count": 3,
   "metadata": {},
   "outputs": [
    {
     "name": "stdout",
     "output_type": "stream",
     "text": [
      "data folder already exists\n",
      "Loading training images...\n",
      "Loading training labels...\n",
      "Loading testing images...\n",
      "Loading testing labels...\n"
     ]
    }
   ],
   "source": [
    "(train_images, train_labels, test_images, test_labels) = mnist_loader.load_fashion_mnist()"
   ]
  },
  {
   "cell_type": "code",
   "execution_count": 4,
   "metadata": {},
   "outputs": [],
   "source": [
    "train_labels = get_one_hot(train_labels)"
   ]
  },
  {
   "cell_type": "code",
   "execution_count": null,
   "metadata": {},
   "outputs": [],
   "source": []
  },
  {
   "cell_type": "code",
   "execution_count": 5,
   "metadata": {},
   "outputs": [
    {
     "name": "stdout",
     "output_type": "stream",
     "text": [
      "Size of:\n",
      "\t Training-set:\t\t40000 40000\n",
      "\t Validation-set:\t10000 10000\n"
     ]
    }
   ],
   "source": [
    "train_x, train_y = train_images[:40000], train_labels[:40000]\n",
    "val_x, val_y = train_images[50000:60000], train_labels[50000:60000]\n",
    "print(\"Size of:\")\n",
    "print(\"\\t Training-set:\\t\\t{} {}\".format(len(train_x), len(train_y)))\n",
    "print(\"\\t Validation-set:\\t{} {}\".format(len(val_x), len(val_y)))"
   ]
  },
  {
   "cell_type": "code",
   "execution_count": 6,
   "metadata": {},
   "outputs": [],
   "source": [
    "train_class = np.argmax(train_y, axis=1)\n",
    "val_class = np.argmax(val_y, axis=1)"
   ]
  },
  {
   "cell_type": "code",
   "execution_count": 7,
   "metadata": {},
   "outputs": [
    {
     "data": {
      "text/plain": [
       "(array([9, 0, 0, 3, 0, 2, 7, 2, 5, 5], dtype=int64),\n",
       " array([9, 2, 1, 0, 2, 7, 9, 3, 1, 1], dtype=int64))"
      ]
     },
     "execution_count": 7,
     "metadata": {},
     "output_type": "execute_result"
    }
   ],
   "source": [
    "train_class[:10], val_class[:10]"
   ]
  },
  {
   "cell_type": "code",
   "execution_count": 8,
   "metadata": {},
   "outputs": [],
   "source": [
    "train_input_fn = tf.estimator.inputs.numpy_input_fn(\n",
    "                    x={\"x\": np.array(train_x)},\n",
    "                    y=np.array(train_class),\n",
    "                    num_epochs=None,\n",
    "                    shuffle=True)"
   ]
  },
  {
   "cell_type": "code",
   "execution_count": 9,
   "metadata": {},
   "outputs": [],
   "source": [
    "val_input_fn = tf.estimator.inputs.numpy_input_fn(\n",
    "                    x={\"x\": np.array(val_x)},\n",
    "                    y=np.array(val_class),\n",
    "                    num_epochs=1,\n",
    "                    shuffle=False)"
   ]
  },
  {
   "cell_type": "code",
   "execution_count": 10,
   "metadata": {},
   "outputs": [],
   "source": [
    "pred_x, pred_y = train_images[40100:40110], train_labels[40100:40110]\n",
    "pred_class = np.argmax(pred_y, axis=1)"
   ]
  },
  {
   "cell_type": "code",
   "execution_count": 11,
   "metadata": {},
   "outputs": [
    {
     "data": {
      "text/plain": [
       "array([9, 9, 1, 8, 1, 0, 0, 1, 4, 6], dtype=int64)"
      ]
     },
     "execution_count": 11,
     "metadata": {},
     "output_type": "execute_result"
    }
   ],
   "source": [
    "pred_class[:10]"
   ]
  },
  {
   "cell_type": "code",
   "execution_count": 12,
   "metadata": {},
   "outputs": [],
   "source": [
    "pred_input_fn = tf.estimator.inputs.numpy_input_fn(\n",
    "    x={\"x\": pred_x},\n",
    "    num_epochs=1,\n",
    "    shuffle=False)"
   ]
  },
  {
   "cell_type": "code",
   "execution_count": 13,
   "metadata": {},
   "outputs": [
    {
     "data": {
      "text/plain": [
       "(({'x': <tf.Tensor 'random_shuffle_queue_DequeueMany:1' shape=(128, 784) dtype=float32>},\n",
       "  <tf.Tensor 'random_shuffle_queue_DequeueMany:2' shape=(128,) dtype=int64>),\n",
       " ({'x': <tf.Tensor 'fifo_queue_DequeueUpTo:1' shape=(?, 784) dtype=float32>},\n",
       "  <tf.Tensor 'fifo_queue_DequeueUpTo:2' shape=(?,) dtype=int64>),\n",
       " {'x': <tf.Tensor 'fifo_queue_DequeueUpTo_1:1' shape=(?, 784) dtype=float32>})"
      ]
     },
     "execution_count": 13,
     "metadata": {},
     "output_type": "execute_result"
    }
   ],
   "source": [
    "train_input_fn(), val_input_fn(), pred_input_fn()"
   ]
  },
  {
   "cell_type": "code",
   "execution_count": 14,
   "metadata": {},
   "outputs": [],
   "source": [
    "feature_x = tf.feature_column.numeric_column(\"x\", shape=(28, 28))"
   ]
  },
  {
   "cell_type": "code",
   "execution_count": 15,
   "metadata": {},
   "outputs": [],
   "source": [
    "feature_columns = [feature_x]"
   ]
  },
  {
   "cell_type": "code",
   "execution_count": null,
   "metadata": {},
   "outputs": [],
   "source": [
    "feature_columns"
   ]
  },
  {
   "cell_type": "code",
   "execution_count": 16,
   "metadata": {},
   "outputs": [],
   "source": [
    "num_hidden_units = [512, 256, 128]"
   ]
  },
  {
   "cell_type": "code",
   "execution_count": 17,
   "metadata": {},
   "outputs": [
    {
     "name": "stdout",
     "output_type": "stream",
     "text": [
      "INFO:tensorflow:Using default config.\n",
      "INFO:tensorflow:Using config: {'_save_checkpoints_secs': 600, '_session_config': None, '_keep_checkpoint_max': 5, '_task_type': 'worker', '_train_distribute': None, '_is_chief': True, '_cluster_spec': <tensorflow.python.training.server_lib.ClusterSpec object at 0x0000000007BC84E0>, '_evaluation_master': '', '_save_checkpoints_steps': None, '_keep_checkpoint_every_n_hours': 10000, '_service': None, '_num_ps_replicas': 0, '_tf_random_seed': None, '_master': '', '_num_worker_replicas': 1, '_task_id': 0, '_log_step_count_steps': 100, '_model_dir': './checkpoints_tutorial17-1/', '_global_id_in_cluster': 0, '_save_summary_steps': 100}\n"
     ]
    }
   ],
   "source": [
    "model = tf.estimator.DNNClassifier(feature_columns=feature_columns,\n",
    "                                   hidden_units=num_hidden_units,\n",
    "                                   activation_fn=tf.nn.relu,\n",
    "                                   n_classes=10,\n",
    "                                   model_dir=\"./checkpoints_tutorial17-1/\")"
   ]
  },
  {
   "cell_type": "code",
   "execution_count": 18,
   "metadata": {},
   "outputs": [
    {
     "name": "stdout",
     "output_type": "stream",
     "text": [
      "INFO:tensorflow:Calling model_fn.\n",
      "INFO:tensorflow:Done calling model_fn.\n",
      "INFO:tensorflow:Create CheckpointSaverHook.\n",
      "INFO:tensorflow:Graph was finalized.\n",
      "INFO:tensorflow:Running local_init_op.\n",
      "INFO:tensorflow:Done running local_init_op.\n",
      "INFO:tensorflow:Saving checkpoints for 1 into ./checkpoints_tutorial17-1/model.ckpt.\n",
      "INFO:tensorflow:loss = 295.054, step = 0\n",
      "INFO:tensorflow:global_step/sec: 211.416\n",
      "INFO:tensorflow:loss = 66.5425, step = 100 (0.475 sec)\n",
      "INFO:tensorflow:global_step/sec: 298.507\n",
      "INFO:tensorflow:loss = 85.0638, step = 200 (0.335 sec)\n",
      "INFO:tensorflow:global_step/sec: 302.115\n",
      "INFO:tensorflow:loss = 56.6463, step = 300 (0.330 sec)\n",
      "INFO:tensorflow:global_step/sec: 308.642\n",
      "INFO:tensorflow:loss = 51.2977, step = 400 (0.325 sec)\n",
      "INFO:tensorflow:global_step/sec: 297.619\n",
      "INFO:tensorflow:loss = 50.4936, step = 500 (0.335 sec)\n",
      "INFO:tensorflow:global_step/sec: 305.81\n",
      "INFO:tensorflow:loss = 35.0038, step = 600 (0.328 sec)\n",
      "INFO:tensorflow:global_step/sec: 288.185\n",
      "INFO:tensorflow:loss = 42.9068, step = 700 (0.347 sec)\n",
      "INFO:tensorflow:global_step/sec: 269.542\n",
      "INFO:tensorflow:loss = 58.58, step = 800 (0.373 sec)\n",
      "INFO:tensorflow:global_step/sec: 265.957\n",
      "INFO:tensorflow:loss = 52.2037, step = 900 (0.374 sec)\n",
      "INFO:tensorflow:global_step/sec: 291.545\n",
      "INFO:tensorflow:loss = 45.9523, step = 1000 (0.343 sec)\n",
      "INFO:tensorflow:global_step/sec: 296.736\n",
      "INFO:tensorflow:loss = 55.1854, step = 1100 (0.336 sec)\n",
      "INFO:tensorflow:global_step/sec: 295.858\n",
      "INFO:tensorflow:loss = 38.7538, step = 1200 (0.339 sec)\n",
      "INFO:tensorflow:global_step/sec: 284.9\n",
      "INFO:tensorflow:loss = 38.0644, step = 1300 (0.351 sec)\n",
      "INFO:tensorflow:global_step/sec: 223.214\n",
      "INFO:tensorflow:loss = 36.726, step = 1400 (0.448 sec)\n",
      "INFO:tensorflow:global_step/sec: 294.118\n",
      "INFO:tensorflow:loss = 41.7059, step = 1500 (0.340 sec)\n",
      "INFO:tensorflow:global_step/sec: 301.205\n",
      "INFO:tensorflow:loss = 46.7688, step = 1600 (0.331 sec)\n",
      "INFO:tensorflow:global_step/sec: 307.692\n",
      "INFO:tensorflow:loss = 46.9081, step = 1700 (0.327 sec)\n",
      "INFO:tensorflow:global_step/sec: 303.951\n",
      "INFO:tensorflow:loss = 32.2957, step = 1800 (0.328 sec)\n",
      "INFO:tensorflow:global_step/sec: 292.398\n",
      "INFO:tensorflow:loss = 29.249, step = 1900 (0.341 sec)\n",
      "INFO:tensorflow:Saving checkpoints for 2000 into ./checkpoints_tutorial17-1/model.ckpt.\n",
      "INFO:tensorflow:Loss for final step: 27.7781.\n"
     ]
    },
    {
     "data": {
      "text/plain": [
       "<tensorflow.python.estimator.canned.dnn.DNNClassifier at 0x470236a0>"
      ]
     },
     "execution_count": 18,
     "metadata": {},
     "output_type": "execute_result"
    }
   ],
   "source": [
    "model.train(input_fn=train_input_fn, steps=2000)"
   ]
  },
  {
   "cell_type": "code",
   "execution_count": 19,
   "metadata": {},
   "outputs": [
    {
     "name": "stdout",
     "output_type": "stream",
     "text": [
      "INFO:tensorflow:Calling model_fn.\n",
      "INFO:tensorflow:Done calling model_fn.\n",
      "INFO:tensorflow:Starting evaluation at 2018-06-16-05:50:42\n",
      "INFO:tensorflow:Graph was finalized.\n",
      "INFO:tensorflow:Restoring parameters from ./checkpoints_tutorial17-1/model.ckpt-2000\n",
      "INFO:tensorflow:Running local_init_op.\n",
      "INFO:tensorflow:Done running local_init_op.\n",
      "INFO:tensorflow:Finished evaluation at 2018-06-16-05:50:43\n",
      "INFO:tensorflow:Saving dict for global step 2000: accuracy = 0.8747, average_loss = 0.353375, global_step = 2000, loss = 44.731\n"
     ]
    }
   ],
   "source": [
    "result = model.evaluate(input_fn=val_input_fn)"
   ]
  },
  {
   "cell_type": "code",
   "execution_count": 20,
   "metadata": {},
   "outputs": [
    {
     "data": {
      "text/plain": [
       "{'accuracy': 0.87470007,\n",
       " 'average_loss': 0.35337502,\n",
       " 'global_step': 2000,\n",
       " 'loss': 44.731014}"
      ]
     },
     "execution_count": 20,
     "metadata": {},
     "output_type": "execute_result"
    }
   ],
   "source": [
    "result"
   ]
  },
  {
   "cell_type": "code",
   "execution_count": 21,
   "metadata": {},
   "outputs": [],
   "source": [
    "predictions = model.predict(input_fn=pred_input_fn)"
   ]
  },
  {
   "cell_type": "code",
   "execution_count": 22,
   "metadata": {},
   "outputs": [
    {
     "name": "stdout",
     "output_type": "stream",
     "text": [
      "INFO:tensorflow:Calling model_fn.\n",
      "INFO:tensorflow:Done calling model_fn.\n",
      "INFO:tensorflow:Graph was finalized.\n",
      "INFO:tensorflow:Restoring parameters from ./checkpoints_tutorial17-1/model.ckpt-2000\n",
      "INFO:tensorflow:Running local_init_op.\n",
      "INFO:tensorflow:Done running local_init_op.\n"
     ]
    }
   ],
   "source": [
    "cls = [p['classes'] for p in predictions]"
   ]
  },
  {
   "cell_type": "code",
   "execution_count": 23,
   "metadata": {},
   "outputs": [
    {
     "data": {
      "text/plain": [
       "array([9, 9, 1, 8, 1, 0, 0, 1, 4, 6])"
      ]
     },
     "execution_count": 23,
     "metadata": {},
     "output_type": "execute_result"
    }
   ],
   "source": [
    "cls_pred = np.array(cls, dtype='int').squeeze()\n",
    "cls_pred"
   ]
  },
  {
   "cell_type": "code",
   "execution_count": null,
   "metadata": {},
   "outputs": [],
   "source": []
  }
 ],
 "metadata": {
  "kernelspec": {
   "display_name": "Python 2",
   "language": "python",
   "name": "python2"
  },
  "language_info": {
   "codemirror_mode": {
    "name": "ipython",
    "version": 2
   },
   "file_extension": ".py",
   "mimetype": "text/x-python",
   "name": "python",
   "nbconvert_exporter": "python",
   "pygments_lexer": "ipython2",
   "version": "2.7.14"
  }
 },
 "nbformat": 4,
 "nbformat_minor": 2
}
